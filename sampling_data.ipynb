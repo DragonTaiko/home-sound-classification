{
 "cells": [
  {
   "cell_type": "markdown",
   "id": "fuzzy-concept",
   "metadata": {},
   "source": [
    "# Imports"
   ]
  },
  {
   "cell_type": "code",
   "execution_count": 57,
   "id": "horizontal-electric",
   "metadata": {},
   "outputs": [],
   "source": [
    "import os\n",
    "import numpy as np\n",
    "import pandas as pd\n",
    "import seaborn as sns\n",
    "import pandas as pd\n",
    "import math\n",
    "\n",
    "import matplotlib.pyplot as plt\n",
    "import IPython.display as ipd\n",
    "\n",
    "sns.set(style=\"ticks\", context=\"talk\", rc={'figure.figsize':(20,10), 'figure.dpi':300})\n",
    "plt.style.use(\"dark_background\")"
   ]
  },
  {
   "cell_type": "code",
   "execution_count": 59,
   "id": "rotary-herald",
   "metadata": {},
   "outputs": [],
   "source": [
    "path = 'data/original/'\n",
    "sample_path = 'data/samples/'\n",
    "all_classes = os.listdir(path)\n",
    "classes = ['blender',\n",
    "            'cooking',\n",
    "            'door_knock',\n",
    "            'eating',\n",
    "            'footsteps',\n",
    "            'human_voice',\n",
    "            'music',\n",
    "            'open_faucet',\n",
    "            'other',\n",
    "            'take_shower',\n",
    "            'toilet_flush']"
   ]
  },
  {
   "cell_type": "markdown",
   "id": "dynamic-study",
   "metadata": {},
   "source": [
    "# Make cuts in audios"
   ]
  },
  {
   "cell_type": "code",
   "execution_count": 60,
   "id": "altered-entrepreneur",
   "metadata": {},
   "outputs": [],
   "source": [
    "dict_cut = {}\n",
    "for c in classes:\n",
    "    dict_cut[c] = []\n",
    "    \n",
    "dict_cut['blender'] = [(11, 97)]\n",
    "dict_cut['cooking'] = [(10, 415), (10, 190)]\n",
    "dict_cut['door_knock'] = [(10, 50), (10, 110), (10, 110), (10, 100)]\n",
    "dict_cut['eating'] = [(10, 490), (5, 365)]\n",
    "dict_cut['footsteps'] = [(10, 40), (10, 40), (10, 40), (15, 85), (10, 100), (5, 100)]\n",
    "dict_cut['human_voice'] = [(10, 120), (0, 50), (20, 150), (0, 40)]\n",
    "dict_cut['music'] = [(10, 180), (10, 190), (10, 200), (0, 200)]\n",
    "dict_cut['open_faucet'] = [(10, 65), (20, 180)]\n",
    "dict_cut['take_shower'] = [(20, 420), (30, 340)]\n",
    "dict_cut['toilet_flush'] = [(10, 20), (10, 20), (10, 20), (10, 20), (10,20), (10, 20), (10,20)]\n",
    "\n",
    "dict_cut['other'] = [(0, 120), (0, 60), (10, 100)]"
   ]
  },
  {
   "cell_type": "markdown",
   "id": "drawn-tactics",
   "metadata": {},
   "source": [
    "# Cut audio and make samples of 5 seconds"
   ]
  },
  {
   "cell_type": "code",
   "execution_count": 68,
   "id": "dangerous-southeast",
   "metadata": {},
   "outputs": [],
   "source": [
    "data = {'file': [], 'class': [], 'procedence_file': []}\n",
    "segment_secs = 5000\n",
    "channels = [str(i) for i in range(8)]\n",
    "\n",
    "for c in all_classes:\n",
    "    i = 0\n",
    "    j = 0\n",
    "    for cut in dict_cut[c]:\n",
    "        i += 1\n",
    "        start = cut[0]\n",
    "        end = cut[1]\n",
    "        t1 = start * 1000\n",
    "        t2 = end * 1000\n",
    "        \n",
    "        for channel in channels:\n",
    "            for k in range(math.floor((t2-t1)/segment_secs)):\n",
    "                newAudio = AudioSegment.from_wav(path+c+'/0'+str(i)+'/channel_'+channel+'.wav')\n",
    "                newAudio = newAudio[t1 + k*segment_secs:t1 + (k + 1)*segment_secs]\n",
    "                output_path = sample_path+c+'_sample_'+str(j)+'.wav'\n",
    "                newAudio.export(output_path, format=\"wav\")\n",
    "                data['file'].append(output_path)\n",
    "                data['class'].append(c)\n",
    "                data['procedence_file'].append('0'+str(i))\n",
    "                j += 1\n",
    "                \n",
    "df = pd.DataFrame(data)\n",
    "df.to_csv('home_sound.csv', index=False)"
   ]
  },
  {
   "cell_type": "markdown",
   "id": "occupational-footwear",
   "metadata": {},
   "source": [
    "# Cut samples for test data"
   ]
  },
  {
   "cell_type": "code",
   "execution_count": 137,
   "id": "northern-ecuador",
   "metadata": {},
   "outputs": [],
   "source": [
    "data = {'file': [], 'class': [], 'procedence_file': []}\n",
    "segment_secs = 5000\n",
    "overlapping = 0.5\n",
    "cuts = [(10, 330)]\n",
    "data_class = [[(10, 25, 'cooking'), (25, 70, 'other'), (70, 80, 'human_voice'), (80, 100, 'other'), \n",
    "              (100, 105, 'footsteps'), (105, 110, 'other'), (110, 125, 'footsteps'), \n",
    "              (125, 182.5, 'eating'), (182.5, 207.5, 'human_voice'), (207.5, 297.5, 'eating'), \n",
    "              (297.5, 305, 'other'), (305, 330, 'eating')]]\n",
    "i = 0\n",
    "for cut in cuts:\n",
    "    j = 0\n",
    "    i += 1\n",
    "    start = cut[0]\n",
    "    end = cut[1]\n",
    "    t1 = start * 1000\n",
    "    t2 = end * 1000\n",
    "    l = 0\n",
    "    for k in range(math.floor((((t2-t1)/segment_secs))/overlapping)-1):\n",
    "        newAudio = AudioSegment.from_wav(path+'test/0'+str(i)+'/channel_0.wav')\n",
    "        s = t1 + k*segment_secs*overlapping\n",
    "        e = s + segment_secs\n",
    "        #print(data_class[i-1])\n",
    "        if s/1000 >= data_class[i-1][l][0] and e/1000 <= data_class[i-1][l][1]:\n",
    "            data['class'].append(data_class[i-1][l][2])\n",
    "        else:\n",
    "            l += 1\n",
    "            data['class'].append(data_class[i-1][l][2])\n",
    "        #print(s/1000, '-', e/1000, data['class'][-1])\n",
    "        newAudio = newAudio[s:e]\n",
    "        output_path = 'data/test/0'+str(i)+'/test_sample_'+str(j)+'.wav'\n",
    "        newAudio.export(output_path, format=\"wav\")\n",
    "        data['file'].append(output_path)\n",
    "        data['procedence_file'].append('0'+str(i))\n",
    "        j += 1\n",
    "        \n",
    "df = pd.DataFrame(data)\n",
    "df.to_csv('home_sound_test.csv', index=False)"
   ]
  }
 ],
 "metadata": {
  "kernelspec": {
   "display_name": "Python 3",
   "language": "python",
   "name": "python3"
  },
  "language_info": {
   "codemirror_mode": {
    "name": "ipython",
    "version": 3
   },
   "file_extension": ".py",
   "mimetype": "text/x-python",
   "name": "python",
   "nbconvert_exporter": "python",
   "pygments_lexer": "ipython3",
   "version": "3.8.8"
  }
 },
 "nbformat": 4,
 "nbformat_minor": 5
}
